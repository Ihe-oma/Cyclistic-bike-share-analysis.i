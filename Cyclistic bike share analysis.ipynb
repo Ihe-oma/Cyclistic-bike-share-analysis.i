{
 "cells": [
  {
   "cell_type": "markdown",
   "metadata": {},
   "source": [
    "IMPORTING LIBRARIES  (PANDAS, NUMPY, MATPLOTLIB) AND FILES"
   ]
  },
  {
   "cell_type": "code",
   "execution_count": 1,
   "metadata": {},
   "outputs": [],
   "source": [
    "import pandas as pd\n",
    "import numpy as np\n",
    "import matplotlib.pyplot as plt\n",
    "import matplotlib.style as style"
   ]
  },
  {
   "cell_type": "code",
   "execution_count": 2,
   "metadata": {},
   "outputs": [],
   "source": [
    "#Reading the four Csv files for the different quatres\n",
    "Q2_2019 = pd.read_csv(\"Divvy_Trips_2019_Q2.csv\", skipinitialspace= True)\n",
    "Q3_2019 = pd.read_csv(\"Divvy_Trips_2019_Q3.csv\", skipinitialspace= True)\n",
    "Q4_2019 = pd.read_csv(\"Divvy_Trips_2019_Q4.csv\", skipinitialspace= True)\n",
    "Q1_2020 = pd.read_csv(\"Divvy_Trips_2020_Q1.csv\", skipinitialspace= True)"
   ]
  },
  {
   "cell_type": "markdown",
   "metadata": {},
   "source": [
    "CLEANING THE DATA AFTER IMPORTING FILES"
   ]
  },
  {
   "cell_type": "code",
   "execution_count": 3,
   "metadata": {},
   "outputs": [
    {
     "data": {
      "text/plain": [
       "(1108163, 12)"
      ]
     },
     "execution_count": 3,
     "metadata": {},
     "output_type": "execute_result"
    }
   ],
   "source": [
    "#Checking the row and column of the dataset\n",
    "Q2_2019.shape"
   ]
  },
  {
   "cell_type": "code",
   "execution_count": 4,
   "metadata": {},
   "outputs": [
    {
     "data": {
      "text/plain": [
       "(1640718, 12)"
      ]
     },
     "execution_count": 4,
     "metadata": {},
     "output_type": "execute_result"
    }
   ],
   "source": [
    "#Checking the row and column of the dataset\n",
    "Q3_2019.shape"
   ]
  },
  {
   "cell_type": "code",
   "execution_count": 5,
   "metadata": {},
   "outputs": [
    {
     "data": {
      "text/plain": [
       "(704054, 12)"
      ]
     },
     "execution_count": 5,
     "metadata": {},
     "output_type": "execute_result"
    }
   ],
   "source": [
    "#Checking the row and column of the dataset\n",
    "Q4_2019.shape"
   ]
  },
  {
   "cell_type": "code",
   "execution_count": 6,
   "metadata": {},
   "outputs": [
    {
     "data": {
      "text/plain": [
       "(426887, 13)"
      ]
     },
     "execution_count": 6,
     "metadata": {},
     "output_type": "execute_result"
    }
   ],
   "source": [
    "#Checking the row and column of the dataset\n",
    "Q1_2020.shape"
   ]
  },
  {
   "cell_type": "code",
   "execution_count": 7,
   "metadata": {},
   "outputs": [
    {
     "name": "stdout",
     "output_type": "stream",
     "text": [
      "<class 'pandas.core.frame.DataFrame'>\n",
      "RangeIndex: 426887 entries, 0 to 426886\n",
      "Data columns (total 13 columns):\n",
      " #   Column              Non-Null Count   Dtype  \n",
      "---  ------              --------------   -----  \n",
      " 0   ride_id             426887 non-null  object \n",
      " 1   rideable_type       426887 non-null  object \n",
      " 2   started_at          426887 non-null  object \n",
      " 3   ended_at            426887 non-null  object \n",
      " 4   start_station_name  426887 non-null  object \n",
      " 5   start_station_id    426887 non-null  int64  \n",
      " 6   end_station_name    426886 non-null  object \n",
      " 7   end_station_id      426886 non-null  float64\n",
      " 8   start_lat           426887 non-null  float64\n",
      " 9   start_lng           426887 non-null  float64\n",
      " 10  end_lat             426886 non-null  float64\n",
      " 11  end_lng             426886 non-null  float64\n",
      " 12  member_casual       426887 non-null  object \n",
      "dtypes: float64(5), int64(1), object(7)\n",
      "memory usage: 42.3+ MB\n"
     ]
    }
   ],
   "source": [
    "#Checking the metadata in datatypes in Q1_2020\n",
    "Q1_2020.info()"
   ]
  },
  {
   "cell_type": "code",
   "execution_count": 8,
   "metadata": {},
   "outputs": [
    {
     "data": {
      "text/html": [
       "<div>\n",
       "<style scoped>\n",
       "    .dataframe tbody tr th:only-of-type {\n",
       "        vertical-align: middle;\n",
       "    }\n",
       "\n",
       "    .dataframe tbody tr th {\n",
       "        vertical-align: top;\n",
       "    }\n",
       "\n",
       "    .dataframe thead th {\n",
       "        text-align: right;\n",
       "    }\n",
       "</style>\n",
       "<table border=\"1\" class=\"dataframe\">\n",
       "  <thead>\n",
       "    <tr style=\"text-align: right;\">\n",
       "      <th></th>\n",
       "      <th>ride_id</th>\n",
       "      <th>started_at</th>\n",
       "      <th>ended_at</th>\n",
       "      <th>rideable_type</th>\n",
       "      <th>01 - Rental Details Duration In Seconds Uncapped</th>\n",
       "      <th>start_station_id</th>\n",
       "      <th>start_station_name</th>\n",
       "      <th>end_station_id</th>\n",
       "      <th>end_station_name</th>\n",
       "      <th>member_casual</th>\n",
       "      <th>Member Gender</th>\n",
       "      <th>05 - Member Details Member Birthday Year</th>\n",
       "    </tr>\n",
       "  </thead>\n",
       "  <tbody>\n",
       "    <tr>\n",
       "      <th>0</th>\n",
       "      <td>22178529</td>\n",
       "      <td>2019-04-01 00:02:22</td>\n",
       "      <td>2019-04-01 00:09:48</td>\n",
       "      <td>6251</td>\n",
       "      <td>446.0</td>\n",
       "      <td>81</td>\n",
       "      <td>Daley Center Plaza</td>\n",
       "      <td>56</td>\n",
       "      <td>Desplaines St &amp; Kinzie St</td>\n",
       "      <td>Subscriber</td>\n",
       "      <td>Male</td>\n",
       "      <td>1975.0</td>\n",
       "    </tr>\n",
       "    <tr>\n",
       "      <th>1</th>\n",
       "      <td>22178530</td>\n",
       "      <td>2019-04-01 00:03:02</td>\n",
       "      <td>2019-04-01 00:20:30</td>\n",
       "      <td>6226</td>\n",
       "      <td>1,048.0</td>\n",
       "      <td>317</td>\n",
       "      <td>Wood St &amp; Taylor St</td>\n",
       "      <td>59</td>\n",
       "      <td>Wabash Ave &amp; Roosevelt Rd</td>\n",
       "      <td>Subscriber</td>\n",
       "      <td>Female</td>\n",
       "      <td>1984.0</td>\n",
       "    </tr>\n",
       "    <tr>\n",
       "      <th>2</th>\n",
       "      <td>22178531</td>\n",
       "      <td>2019-04-01 00:11:07</td>\n",
       "      <td>2019-04-01 00:15:19</td>\n",
       "      <td>5649</td>\n",
       "      <td>252.0</td>\n",
       "      <td>283</td>\n",
       "      <td>LaSalle St &amp; Jackson Blvd</td>\n",
       "      <td>174</td>\n",
       "      <td>Canal St &amp; Madison St</td>\n",
       "      <td>Subscriber</td>\n",
       "      <td>Male</td>\n",
       "      <td>1990.0</td>\n",
       "    </tr>\n",
       "    <tr>\n",
       "      <th>3</th>\n",
       "      <td>22178532</td>\n",
       "      <td>2019-04-01 00:13:01</td>\n",
       "      <td>2019-04-01 00:18:58</td>\n",
       "      <td>4151</td>\n",
       "      <td>357.0</td>\n",
       "      <td>26</td>\n",
       "      <td>McClurg Ct &amp; Illinois St</td>\n",
       "      <td>133</td>\n",
       "      <td>Kingsbury St &amp; Kinzie St</td>\n",
       "      <td>Subscriber</td>\n",
       "      <td>Male</td>\n",
       "      <td>1993.0</td>\n",
       "    </tr>\n",
       "    <tr>\n",
       "      <th>4</th>\n",
       "      <td>22178533</td>\n",
       "      <td>2019-04-01 00:19:26</td>\n",
       "      <td>2019-04-01 00:36:13</td>\n",
       "      <td>3270</td>\n",
       "      <td>1,007.0</td>\n",
       "      <td>202</td>\n",
       "      <td>Halsted St &amp; 18th St</td>\n",
       "      <td>129</td>\n",
       "      <td>Blue Island Ave &amp; 18th St</td>\n",
       "      <td>Subscriber</td>\n",
       "      <td>Male</td>\n",
       "      <td>1992.0</td>\n",
       "    </tr>\n",
       "  </tbody>\n",
       "</table>\n",
       "</div>"
      ],
      "text/plain": [
       "    ride_id           started_at             ended_at  rideable_type  \\\n",
       "0  22178529  2019-04-01 00:02:22  2019-04-01 00:09:48           6251   \n",
       "1  22178530  2019-04-01 00:03:02  2019-04-01 00:20:30           6226   \n",
       "2  22178531  2019-04-01 00:11:07  2019-04-01 00:15:19           5649   \n",
       "3  22178532  2019-04-01 00:13:01  2019-04-01 00:18:58           4151   \n",
       "4  22178533  2019-04-01 00:19:26  2019-04-01 00:36:13           3270   \n",
       "\n",
       "  01 - Rental Details Duration In Seconds Uncapped  start_station_id  \\\n",
       "0                                            446.0                81   \n",
       "1                                          1,048.0               317   \n",
       "2                                            252.0               283   \n",
       "3                                            357.0                26   \n",
       "4                                          1,007.0               202   \n",
       "\n",
       "          start_station_name  end_station_id           end_station_name  \\\n",
       "0         Daley Center Plaza              56  Desplaines St & Kinzie St   \n",
       "1        Wood St & Taylor St              59  Wabash Ave & Roosevelt Rd   \n",
       "2  LaSalle St & Jackson Blvd             174      Canal St & Madison St   \n",
       "3   McClurg Ct & Illinois St             133   Kingsbury St & Kinzie St   \n",
       "4       Halsted St & 18th St             129  Blue Island Ave & 18th St   \n",
       "\n",
       "  member_casual Member Gender  05 - Member Details Member Birthday Year  \n",
       "0    Subscriber          Male                                    1975.0  \n",
       "1    Subscriber        Female                                    1984.0  \n",
       "2    Subscriber          Male                                    1990.0  \n",
       "3    Subscriber          Male                                    1993.0  \n",
       "4    Subscriber          Male                                    1992.0  "
      ]
     },
     "execution_count": 8,
     "metadata": {},
     "output_type": "execute_result"
    }
   ],
   "source": [
    "#Renaming column names in Q2_2019\n",
    "Q2_2019.rename(columns= {\"01 - Rental Details Rental ID\":\"ride_id\", \n",
    "                         \"01 - Rental Details Bike ID\":\"rideable_type\", \n",
    "                         \"01 - Rental Details Local Start Time\":\"started_at\", \n",
    "                         \"01 - Rental Details Local End Time\":\"ended_at\", \n",
    "                         \"03 - Rental Start Station Name\":\"start_station_name\",\n",
    "                         \"03 - Rental Start Station ID\":\"start_station_id\", \n",
    "                         \"02 - Rental End Station Name\":\"end_station_name\", \n",
    "                         \"02 - Rental End Station ID\":\"end_station_id\", \n",
    "                         \"User Type\":\"member_casual\"}, inplace= True)\n",
    "Q2_2019.head()"
   ]
  },
  {
   "cell_type": "code",
   "execution_count": 9,
   "metadata": {},
   "outputs": [
    {
     "data": {
      "text/html": [
       "<div>\n",
       "<style scoped>\n",
       "    .dataframe tbody tr th:only-of-type {\n",
       "        vertical-align: middle;\n",
       "    }\n",
       "\n",
       "    .dataframe tbody tr th {\n",
       "        vertical-align: top;\n",
       "    }\n",
       "\n",
       "    .dataframe thead th {\n",
       "        text-align: right;\n",
       "    }\n",
       "</style>\n",
       "<table border=\"1\" class=\"dataframe\">\n",
       "  <thead>\n",
       "    <tr style=\"text-align: right;\">\n",
       "      <th></th>\n",
       "      <th>ride_id</th>\n",
       "      <th>started_at</th>\n",
       "      <th>ended_at</th>\n",
       "      <th>rideable_type</th>\n",
       "      <th>tripduration</th>\n",
       "      <th>start_station_id</th>\n",
       "      <th>start_station_name</th>\n",
       "      <th>end_station_id</th>\n",
       "      <th>end_station_name</th>\n",
       "      <th>member_casual</th>\n",
       "      <th>gender</th>\n",
       "      <th>birthyear</th>\n",
       "    </tr>\n",
       "  </thead>\n",
       "  <tbody>\n",
       "    <tr>\n",
       "      <th>0</th>\n",
       "      <td>23479388</td>\n",
       "      <td>2019-07-01 00:00:27</td>\n",
       "      <td>2019-07-01 00:20:41</td>\n",
       "      <td>3591</td>\n",
       "      <td>1,214.0</td>\n",
       "      <td>117</td>\n",
       "      <td>Wilton Ave &amp; Belmont Ave</td>\n",
       "      <td>497</td>\n",
       "      <td>Kimball Ave &amp; Belmont Ave</td>\n",
       "      <td>Subscriber</td>\n",
       "      <td>Male</td>\n",
       "      <td>1992.0</td>\n",
       "    </tr>\n",
       "    <tr>\n",
       "      <th>1</th>\n",
       "      <td>23479389</td>\n",
       "      <td>2019-07-01 00:01:16</td>\n",
       "      <td>2019-07-01 00:18:44</td>\n",
       "      <td>5353</td>\n",
       "      <td>1,048.0</td>\n",
       "      <td>381</td>\n",
       "      <td>Western Ave &amp; Monroe St</td>\n",
       "      <td>203</td>\n",
       "      <td>Western Ave &amp; 21st St</td>\n",
       "      <td>Customer</td>\n",
       "      <td>NaN</td>\n",
       "      <td>NaN</td>\n",
       "    </tr>\n",
       "    <tr>\n",
       "      <th>2</th>\n",
       "      <td>23479390</td>\n",
       "      <td>2019-07-01 00:01:48</td>\n",
       "      <td>2019-07-01 00:27:42</td>\n",
       "      <td>6180</td>\n",
       "      <td>1,554.0</td>\n",
       "      <td>313</td>\n",
       "      <td>Lakeview Ave &amp; Fullerton Pkwy</td>\n",
       "      <td>144</td>\n",
       "      <td>Larrabee St &amp; Webster Ave</td>\n",
       "      <td>Customer</td>\n",
       "      <td>NaN</td>\n",
       "      <td>NaN</td>\n",
       "    </tr>\n",
       "    <tr>\n",
       "      <th>3</th>\n",
       "      <td>23479391</td>\n",
       "      <td>2019-07-01 00:02:07</td>\n",
       "      <td>2019-07-01 00:27:10</td>\n",
       "      <td>5540</td>\n",
       "      <td>1,503.0</td>\n",
       "      <td>313</td>\n",
       "      <td>Lakeview Ave &amp; Fullerton Pkwy</td>\n",
       "      <td>144</td>\n",
       "      <td>Larrabee St &amp; Webster Ave</td>\n",
       "      <td>Customer</td>\n",
       "      <td>NaN</td>\n",
       "      <td>NaN</td>\n",
       "    </tr>\n",
       "    <tr>\n",
       "      <th>4</th>\n",
       "      <td>23479392</td>\n",
       "      <td>2019-07-01 00:02:13</td>\n",
       "      <td>2019-07-01 00:22:26</td>\n",
       "      <td>6014</td>\n",
       "      <td>1,213.0</td>\n",
       "      <td>168</td>\n",
       "      <td>Michigan Ave &amp; 14th St</td>\n",
       "      <td>62</td>\n",
       "      <td>McCormick Place</td>\n",
       "      <td>Customer</td>\n",
       "      <td>NaN</td>\n",
       "      <td>NaN</td>\n",
       "    </tr>\n",
       "  </tbody>\n",
       "</table>\n",
       "</div>"
      ],
      "text/plain": [
       "    ride_id           started_at             ended_at  rideable_type  \\\n",
       "0  23479388  2019-07-01 00:00:27  2019-07-01 00:20:41           3591   \n",
       "1  23479389  2019-07-01 00:01:16  2019-07-01 00:18:44           5353   \n",
       "2  23479390  2019-07-01 00:01:48  2019-07-01 00:27:42           6180   \n",
       "3  23479391  2019-07-01 00:02:07  2019-07-01 00:27:10           5540   \n",
       "4  23479392  2019-07-01 00:02:13  2019-07-01 00:22:26           6014   \n",
       "\n",
       "  tripduration  start_station_id             start_station_name  \\\n",
       "0      1,214.0               117       Wilton Ave & Belmont Ave   \n",
       "1      1,048.0               381        Western Ave & Monroe St   \n",
       "2      1,554.0               313  Lakeview Ave & Fullerton Pkwy   \n",
       "3      1,503.0               313  Lakeview Ave & Fullerton Pkwy   \n",
       "4      1,213.0               168         Michigan Ave & 14th St   \n",
       "\n",
       "   end_station_id           end_station_name member_casual gender  birthyear  \n",
       "0             497  Kimball Ave & Belmont Ave    Subscriber   Male     1992.0  \n",
       "1             203      Western Ave & 21st St      Customer    NaN        NaN  \n",
       "2             144  Larrabee St & Webster Ave      Customer    NaN        NaN  \n",
       "3             144  Larrabee St & Webster Ave      Customer    NaN        NaN  \n",
       "4              62            McCormick Place      Customer    NaN        NaN  "
      ]
     },
     "execution_count": 9,
     "metadata": {},
     "output_type": "execute_result"
    }
   ],
   "source": [
    "#Renaming column names in Q3_2019\n",
    "Q3_2019.rename(columns= {\"trip_id\":\"ride_id\", \n",
    "                         \"bikeid\":\"rideable_type\", \n",
    "                         \"start_time\":\"started_at\", \n",
    "                         \"end_time\":\"ended_at\", \n",
    "                         \"from_station_name\":\"start_station_name\",\n",
    "                         \"from_station_id\":\"start_station_id\", \n",
    "                         \"to_station_name\":\"end_station_name\", \n",
    "                         \"to_station_id\":\"end_station_id\", \n",
    "                         \"usertype\":\"member_casual\"}, inplace= True)\n",
    "Q3_2019.head()"
   ]
  },
  {
   "cell_type": "code",
   "execution_count": 10,
   "metadata": {},
   "outputs": [
    {
     "data": {
      "text/html": [
       "<div>\n",
       "<style scoped>\n",
       "    .dataframe tbody tr th:only-of-type {\n",
       "        vertical-align: middle;\n",
       "    }\n",
       "\n",
       "    .dataframe tbody tr th {\n",
       "        vertical-align: top;\n",
       "    }\n",
       "\n",
       "    .dataframe thead th {\n",
       "        text-align: right;\n",
       "    }\n",
       "</style>\n",
       "<table border=\"1\" class=\"dataframe\">\n",
       "  <thead>\n",
       "    <tr style=\"text-align: right;\">\n",
       "      <th></th>\n",
       "      <th>ride_id</th>\n",
       "      <th>started_at</th>\n",
       "      <th>ended_at</th>\n",
       "      <th>rideable_type</th>\n",
       "      <th>tripduration</th>\n",
       "      <th>start_station_id</th>\n",
       "      <th>start_station_name</th>\n",
       "      <th>end_station_id</th>\n",
       "      <th>end_station_name</th>\n",
       "      <th>member_casual</th>\n",
       "      <th>gender</th>\n",
       "      <th>birthyear</th>\n",
       "    </tr>\n",
       "  </thead>\n",
       "  <tbody>\n",
       "    <tr>\n",
       "      <th>0</th>\n",
       "      <td>25223640</td>\n",
       "      <td>2019-10-01 00:01:39</td>\n",
       "      <td>2019-10-01 00:17:20</td>\n",
       "      <td>2215</td>\n",
       "      <td>940.0</td>\n",
       "      <td>20</td>\n",
       "      <td>Sheffield Ave &amp; Kingsbury St</td>\n",
       "      <td>309</td>\n",
       "      <td>Leavitt St &amp; Armitage Ave</td>\n",
       "      <td>Subscriber</td>\n",
       "      <td>Male</td>\n",
       "      <td>1987.0</td>\n",
       "    </tr>\n",
       "    <tr>\n",
       "      <th>1</th>\n",
       "      <td>25223641</td>\n",
       "      <td>2019-10-01 00:02:16</td>\n",
       "      <td>2019-10-01 00:06:34</td>\n",
       "      <td>6328</td>\n",
       "      <td>258.0</td>\n",
       "      <td>19</td>\n",
       "      <td>Throop (Loomis) St &amp; Taylor St</td>\n",
       "      <td>241</td>\n",
       "      <td>Morgan St &amp; Polk St</td>\n",
       "      <td>Subscriber</td>\n",
       "      <td>Male</td>\n",
       "      <td>1998.0</td>\n",
       "    </tr>\n",
       "    <tr>\n",
       "      <th>2</th>\n",
       "      <td>25223642</td>\n",
       "      <td>2019-10-01 00:04:32</td>\n",
       "      <td>2019-10-01 00:18:43</td>\n",
       "      <td>3003</td>\n",
       "      <td>850.0</td>\n",
       "      <td>84</td>\n",
       "      <td>Milwaukee Ave &amp; Grand Ave</td>\n",
       "      <td>199</td>\n",
       "      <td>Wabash Ave &amp; Grand Ave</td>\n",
       "      <td>Subscriber</td>\n",
       "      <td>Female</td>\n",
       "      <td>1991.0</td>\n",
       "    </tr>\n",
       "    <tr>\n",
       "      <th>3</th>\n",
       "      <td>25223643</td>\n",
       "      <td>2019-10-01 00:04:32</td>\n",
       "      <td>2019-10-01 00:43:43</td>\n",
       "      <td>3275</td>\n",
       "      <td>2,350.0</td>\n",
       "      <td>313</td>\n",
       "      <td>Lakeview Ave &amp; Fullerton Pkwy</td>\n",
       "      <td>290</td>\n",
       "      <td>Kedzie Ave &amp; Palmer Ct</td>\n",
       "      <td>Subscriber</td>\n",
       "      <td>Male</td>\n",
       "      <td>1990.0</td>\n",
       "    </tr>\n",
       "    <tr>\n",
       "      <th>4</th>\n",
       "      <td>25223644</td>\n",
       "      <td>2019-10-01 00:04:34</td>\n",
       "      <td>2019-10-01 00:35:42</td>\n",
       "      <td>5294</td>\n",
       "      <td>1,867.0</td>\n",
       "      <td>210</td>\n",
       "      <td>Ashland Ave &amp; Division St</td>\n",
       "      <td>382</td>\n",
       "      <td>Western Ave &amp; Congress Pkwy</td>\n",
       "      <td>Subscriber</td>\n",
       "      <td>Male</td>\n",
       "      <td>1987.0</td>\n",
       "    </tr>\n",
       "  </tbody>\n",
       "</table>\n",
       "</div>"
      ],
      "text/plain": [
       "    ride_id           started_at             ended_at  rideable_type  \\\n",
       "0  25223640  2019-10-01 00:01:39  2019-10-01 00:17:20           2215   \n",
       "1  25223641  2019-10-01 00:02:16  2019-10-01 00:06:34           6328   \n",
       "2  25223642  2019-10-01 00:04:32  2019-10-01 00:18:43           3003   \n",
       "3  25223643  2019-10-01 00:04:32  2019-10-01 00:43:43           3275   \n",
       "4  25223644  2019-10-01 00:04:34  2019-10-01 00:35:42           5294   \n",
       "\n",
       "  tripduration  start_station_id              start_station_name  \\\n",
       "0        940.0                20    Sheffield Ave & Kingsbury St   \n",
       "1        258.0                19  Throop (Loomis) St & Taylor St   \n",
       "2        850.0                84       Milwaukee Ave & Grand Ave   \n",
       "3      2,350.0               313   Lakeview Ave & Fullerton Pkwy   \n",
       "4      1,867.0               210       Ashland Ave & Division St   \n",
       "\n",
       "   end_station_id             end_station_name member_casual  gender  \\\n",
       "0             309    Leavitt St & Armitage Ave    Subscriber    Male   \n",
       "1             241          Morgan St & Polk St    Subscriber    Male   \n",
       "2             199       Wabash Ave & Grand Ave    Subscriber  Female   \n",
       "3             290       Kedzie Ave & Palmer Ct    Subscriber    Male   \n",
       "4             382  Western Ave & Congress Pkwy    Subscriber    Male   \n",
       "\n",
       "   birthyear  \n",
       "0     1987.0  \n",
       "1     1998.0  \n",
       "2     1991.0  \n",
       "3     1990.0  \n",
       "4     1987.0  "
      ]
     },
     "execution_count": 10,
     "metadata": {},
     "output_type": "execute_result"
    }
   ],
   "source": [
    "#Renaming column names in Q4_2019\n",
    "Q4_2019.rename(columns= {\"trip_id\":\"ride_id\", \n",
    "                         \"bikeid\":\"rideable_type\", \n",
    "                         \"start_time\":\"started_at\", \n",
    "                         \"end_time\":\"ended_at\", \n",
    "                         \"from_station_name\":\"start_station_name\",\n",
    "                         \"from_station_id\":\"start_station_id\", \n",
    "                         \"to_station_name\":\"end_station_name\", \n",
    "                         \"to_station_id\":\"end_station_id\", \n",
    "                         \"usertype\":\"member_casual\"}, inplace= True)\n",
    "Q4_2019.head()"
   ]
  },
  {
   "cell_type": "code",
   "execution_count": 11,
   "metadata": {},
   "outputs": [
    {
     "name": "stdout",
     "output_type": "stream",
     "text": [
      "<class 'pandas.core.frame.DataFrame'>\n",
      "RangeIndex: 1108163 entries, 0 to 1108162\n",
      "Data columns (total 12 columns):\n",
      " #   Column                                            Non-Null Count    Dtype  \n",
      "---  ------                                            --------------    -----  \n",
      " 0   ride_id                                           1108163 non-null  int64  \n",
      " 1   started_at                                        1108163 non-null  object \n",
      " 2   ended_at                                          1108163 non-null  object \n",
      " 3   rideable_type                                     1108163 non-null  int64  \n",
      " 4   01 - Rental Details Duration In Seconds Uncapped  1108163 non-null  object \n",
      " 5   start_station_id                                  1108163 non-null  int64  \n",
      " 6   start_station_name                                1108163 non-null  object \n",
      " 7   end_station_id                                    1108163 non-null  int64  \n",
      " 8   end_station_name                                  1108163 non-null  object \n",
      " 9   member_casual                                     1108163 non-null  object \n",
      " 10  Member Gender                                     922609 non-null   object \n",
      " 11  05 - Member Details Member Birthday Year          927210 non-null   float64\n",
      "dtypes: float64(1), int64(4), object(7)\n",
      "memory usage: 101.5+ MB\n"
     ]
    }
   ],
   "source": [
    "Q2_2019.info()"
   ]
  },
  {
   "cell_type": "code",
   "execution_count": 12,
   "metadata": {},
   "outputs": [
    {
     "name": "stdout",
     "output_type": "stream",
     "text": [
      "<class 'pandas.core.frame.DataFrame'>\n",
      "RangeIndex: 1108163 entries, 0 to 1108162\n",
      "Data columns (total 12 columns):\n",
      " #   Column                                            Non-Null Count    Dtype         \n",
      "---  ------                                            --------------    -----         \n",
      " 0   ride_id                                           1108163 non-null  object        \n",
      " 1   started_at                                        1108163 non-null  datetime64[ns]\n",
      " 2   ended_at                                          1108163 non-null  datetime64[ns]\n",
      " 3   rideable_type                                     1108163 non-null  object        \n",
      " 4   01 - Rental Details Duration In Seconds Uncapped  1108163 non-null  object        \n",
      " 5   start_station_id                                  1108163 non-null  int64         \n",
      " 6   start_station_name                                1108163 non-null  object        \n",
      " 7   end_station_id                                    1108163 non-null  int64         \n",
      " 8   end_station_name                                  1108163 non-null  object        \n",
      " 9   member_casual                                     1108163 non-null  object        \n",
      " 10  Member Gender                                     922609 non-null   object        \n",
      " 11  05 - Member Details Member Birthday Year          927210 non-null   float64       \n",
      "dtypes: datetime64[ns](2), float64(1), int64(2), object(7)\n",
      "memory usage: 101.5+ MB\n"
     ]
    }
   ],
   "source": [
    "#Changing datatypes of ride_id and rideable_type of Q2_2019\n",
    "Q2_2019[\"ride_id\"] = Q2_2019[\"ride_id\"].astype(str)\n",
    "Q2_2019[\"rideable_type\"] = Q2_2019[\"rideable_type\"].astype(str)\n",
    "Q2_2019['started_at'] = pd.to_datetime(Q2_2019['started_at'])\n",
    "Q2_2019['ended_at'] = pd.to_datetime(Q2_2019['ended_at'])\n",
    "Q2_2019.info()"
   ]
  },
  {
   "cell_type": "code",
   "execution_count": 13,
   "metadata": {},
   "outputs": [
    {
     "name": "stdout",
     "output_type": "stream",
     "text": [
      "<class 'pandas.core.frame.DataFrame'>\n",
      "RangeIndex: 1640718 entries, 0 to 1640717\n",
      "Data columns (total 12 columns):\n",
      " #   Column              Non-Null Count    Dtype         \n",
      "---  ------              --------------    -----         \n",
      " 0   ride_id             1640718 non-null  object        \n",
      " 1   started_at          1640718 non-null  datetime64[ns]\n",
      " 2   ended_at            1640718 non-null  datetime64[ns]\n",
      " 3   rideable_type       1640718 non-null  object        \n",
      " 4   tripduration        1640718 non-null  object        \n",
      " 5   start_station_id    1640718 non-null  int64         \n",
      " 6   start_station_name  1640718 non-null  object        \n",
      " 7   end_station_id      1640718 non-null  int64         \n",
      " 8   end_station_name    1640718 non-null  object        \n",
      " 9   member_casual       1640718 non-null  object        \n",
      " 10  gender              1353368 non-null  object        \n",
      " 11  birthyear           1362624 non-null  float64       \n",
      "dtypes: datetime64[ns](2), float64(1), int64(2), object(7)\n",
      "memory usage: 150.2+ MB\n"
     ]
    }
   ],
   "source": [
    "#Changing datatypes of ride_id and rideable_type of Q3_2019\n",
    "Q3_2019[\"ride_id\"] = Q3_2019[\"ride_id\"].astype(str)\n",
    "Q3_2019[\"rideable_type\"] = Q3_2019[\"rideable_type\"].astype(str)\n",
    "Q3_2019['started_at'] = pd.to_datetime(Q3_2019['started_at'])\n",
    "Q3_2019['ended_at'] = pd.to_datetime(Q3_2019['ended_at'])\n",
    "Q3_2019.info()"
   ]
  },
  {
   "cell_type": "code",
   "execution_count": 14,
   "metadata": {},
   "outputs": [
    {
     "name": "stdout",
     "output_type": "stream",
     "text": [
      "<class 'pandas.core.frame.DataFrame'>\n",
      "RangeIndex: 704054 entries, 0 to 704053\n",
      "Data columns (total 12 columns):\n",
      " #   Column              Non-Null Count   Dtype         \n",
      "---  ------              --------------   -----         \n",
      " 0   ride_id             704054 non-null  object        \n",
      " 1   started_at          704054 non-null  datetime64[ns]\n",
      " 2   ended_at            704054 non-null  datetime64[ns]\n",
      " 3   rideable_type       704054 non-null  object        \n",
      " 4   tripduration        704054 non-null  object        \n",
      " 5   start_station_id    704054 non-null  int64         \n",
      " 6   start_station_name  704054 non-null  object        \n",
      " 7   end_station_id      704054 non-null  int64         \n",
      " 8   end_station_name    704054 non-null  object        \n",
      " 9   member_casual       704054 non-null  object        \n",
      " 10  gender              637463 non-null  object        \n",
      " 11  birthyear           642373 non-null  float64       \n",
      "dtypes: datetime64[ns](2), float64(1), int64(2), object(7)\n",
      "memory usage: 64.5+ MB\n"
     ]
    }
   ],
   "source": [
    "#Changing datatypes of ride_id and rideable_type of Q4_2019\n",
    "Q4_2019[\"ride_id\"] = Q4_2019[\"ride_id\"].astype(str)\n",
    "Q4_2019[\"rideable_type\"] = Q4_2019[\"rideable_type\"].astype(str)\n",
    "Q4_2019['started_at'] = pd.to_datetime(Q4_2019['started_at'])\n",
    "Q4_2019['ended_at'] = pd.to_datetime(Q4_2019['ended_at'])\n",
    "Q4_2019.info()"
   ]
  },
  {
   "cell_type": "code",
   "execution_count": 15,
   "metadata": {},
   "outputs": [],
   "source": [
    "#Changing datatypes of ride_id and rideable_type of Q4_2019\n",
    "Q1_2020['started_at'] = pd.to_datetime(Q1_2020['started_at'])\n",
    "Q1_2020['ended_at'] = pd.to_datetime(Q1_2020['ended_at'])"
   ]
  },
  {
   "cell_type": "code",
   "execution_count": 16,
   "metadata": {},
   "outputs": [],
   "source": [
    "#Joining Q2_2019,Q3_2019,Q4_2019 and Q1_2020\n",
    "DivvyTrips = pd.concat([Q2_2019, Q3_2019, Q4_2019,Q1_2020])"
   ]
  },
  {
   "cell_type": "code",
   "execution_count": 17,
   "metadata": {},
   "outputs": [],
   "source": [
    "#Removing columns in Divvy that are not matchable\n",
    "DivvyTrips.drop(columns=[\"01 - Rental Details Duration In Seconds Uncapped\",\"Member Gender\",\n",
    "                         \"05 - Member Details Member Birthday Year\",\"tripduration\",\"gender\",\"birthyear\",\n",
    "                         \"start_lat\",\"start_lng\",\"end_lat\",\"end_lng\"], inplace=True)"
   ]
  },
  {
   "cell_type": "code",
   "execution_count": 18,
   "metadata": {},
   "outputs": [],
   "source": [
    "#changing four labels to only two (subscribers to members and casuals to customers)\n",
    "DivvyTrips['member_casual'] = DivvyTrips['member_casual'].replace({'Subscriber':'member'})\n",
    "DivvyTrips['member_casual'] = DivvyTrips['member_casual'].replace({'casual':'Customer'})"
   ]
  },
  {
   "cell_type": "code",
   "execution_count": 19,
   "metadata": {},
   "outputs": [],
   "source": [
    "#Getting the year, month and date\n",
    "DivvyTrips['started_at_year'] = DivvyTrips['started_at'].dt.year\n",
    "DivvyTrips['started_at_month'] = DivvyTrips['started_at'].dt.month_name()\n",
    "DivvyTrips['started_at_day'] = DivvyTrips['started_at'].dt.day_name()"
   ]
  },
  {
   "cell_type": "code",
   "execution_count": 20,
   "metadata": {},
   "outputs": [],
   "source": [
    "#Getting the year, month and date\n",
    "DivvyTrips['ended_at_year'] = DivvyTrips['ended_at'].dt.year\n",
    "DivvyTrips['ended_at_month'] = DivvyTrips['ended_at'].dt.month_name()\n",
    "DivvyTrips['ended_at_day'] = DivvyTrips['ended_at'].dt.day_name()"
   ]
  },
  {
   "cell_type": "code",
   "execution_count": 21,
   "metadata": {},
   "outputs": [
    {
     "data": {
      "text/plain": [
       "ride_id               0\n",
       "started_at            0\n",
       "ended_at              0\n",
       "rideable_type         0\n",
       "start_station_id      0\n",
       "start_station_name    0\n",
       "end_station_id        1\n",
       "end_station_name      1\n",
       "member_casual         0\n",
       "started_at_year       0\n",
       "started_at_month      0\n",
       "started_at_day        0\n",
       "ended_at_year         0\n",
       "ended_at_month        0\n",
       "ended_at_day          0\n",
       "dtype: int64"
      ]
     },
     "execution_count": 21,
     "metadata": {},
     "output_type": "execute_result"
    }
   ],
   "source": [
    "#checking null values\n",
    "DivvyTrips.isna().sum()"
   ]
  },
  {
   "cell_type": "code",
   "execution_count": 22,
   "metadata": {},
   "outputs": [],
   "source": [
    "DivvyTrips.dropna(inplace = True)"
   ]
  },
  {
   "cell_type": "code",
   "execution_count": 23,
   "metadata": {},
   "outputs": [
    {
     "data": {
      "text/plain": [
       "0"
      ]
     },
     "execution_count": 23,
     "metadata": {},
     "output_type": "execute_result"
    }
   ],
   "source": [
    "#Dropping duplicates\n",
    "DivvyTrips.duplicated().sum()"
   ]
  },
  {
   "cell_type": "code",
   "execution_count": 24,
   "metadata": {},
   "outputs": [],
   "source": [
    "#checking null values\n",
    "DivvyTrips.drop_duplicates(inplace = True)"
   ]
  },
  {
   "cell_type": "code",
   "execution_count": 25,
   "metadata": {},
   "outputs": [
    {
     "data": {
      "text/plain": [
       "ride_id               0\n",
       "started_at            0\n",
       "ended_at              0\n",
       "rideable_type         0\n",
       "start_station_id      0\n",
       "start_station_name    0\n",
       "end_station_id        0\n",
       "end_station_name      0\n",
       "member_casual         0\n",
       "started_at_year       0\n",
       "started_at_month      0\n",
       "started_at_day        0\n",
       "ended_at_year         0\n",
       "ended_at_month        0\n",
       "ended_at_day          0\n",
       "dtype: int64"
      ]
     },
     "execution_count": 25,
     "metadata": {},
     "output_type": "execute_result"
    }
   ],
   "source": [
    "DivvyTrips.isna().sum()"
   ]
  },
  {
   "cell_type": "markdown",
   "metadata": {},
   "source": [
    "ANALYZING AND VISUALIZING THE JOINED DATA (DivvyTrips)"
   ]
  },
  {
   "cell_type": "code",
   "execution_count": 26,
   "metadata": {},
   "outputs": [
    {
     "data": {
      "text/plain": [
       "member_casual\n",
       "Customer     905953\n",
       "member      2973868\n",
       "Name: count, dtype: int64"
      ]
     },
     "execution_count": 26,
     "metadata": {},
     "output_type": "execute_result"
    }
   ],
   "source": [
    "#Getting the number of customers and members\n",
    "A = DivvyTrips.groupby([\"member_casual\"])\n",
    "A1 =A[\"member_casual\"].value_counts()\n",
    "A1"
   ]
  },
  {
   "cell_type": "code",
   "execution_count": 27,
   "metadata": {},
   "outputs": [
    {
     "data": {
      "text/plain": [
       "[905953, 2973868]"
      ]
     },
     "execution_count": 27,
     "metadata": {},
     "output_type": "execute_result"
    }
   ],
   "source": [
    "#putting the data retrieved into a list\n",
    "L1 =A1.tolist()\n",
    "L1"
   ]
  },
  {
   "cell_type": "code",
   "execution_count": 28,
   "metadata": {},
   "outputs": [
    {
     "data": {
      "image/png": "[encoded data removed]",
      "text/plain": [
       "<Figure size 640x480 with 1 Axes>"
      ]
     },
     "metadata": {},
     "output_type": "display_data"
    }
   ],
   "source": [
    "#creating the visuals of customers and members\n",
    "style.use('ggplot')\n",
    "slices = L1\n",
    "names = ['Customers','Members']\n",
    "col = ['#E1F575','#3E94A3']\n",
    "plt.pie(slices, labels=names, colors=col, startangle = 140, shadow =True, autopct='%1.1f%%', wedgeprops = {'edgecolor':'black', 'linewidth':1,'linestyle':'-'})\n",
    "plt.title('THE NUMBER OF CUSTOMERS AND MEMBERS IN THE COMPANY')\n",
    "plt.axis ('equal')\n",
    "plt.legend(loc=2)\n",
    "plt.show()"
   ]
  },
  {
   "cell_type": "code",
   "execution_count": 29,
   "metadata": {},
   "outputs": [
    {
     "data": {
      "text/plain": [
       "[81819, 51706, 50153, 47306, 42896]"
      ]
     },
     "execution_count": 29,
     "metadata": {},
     "output_type": "execute_result"
    }
   ],
   "source": [
    "#2. What Station is used the most as an end Station\n",
    "B = DivvyTrips.groupby(['end_station_name'])\n",
    "B1 = B['end_station_name'].value_counts()\n",
    "#B1\n",
    "highest_endstation = pd.DataFrame(B1)\n",
    "highest_endstation \n",
    "#Sorting the end_station\n",
    "highest_endstation.sort_values(by='count', ascending=False, inplace=True)\n",
    "highest_endstation \n",
    "#\n",
    "Top5_end = highest_endstation.head()\n",
    "Top5_end\n",
    "Top5_endstation1 = Top5_end['count'].index.tolist()\n",
    "Top5_endstation1 \n",
    "Top5_endstation2 = Top5_end['count'].tolist()\n",
    "Top5_endstation2"
   ]
  },
  {
   "cell_type": "code",
   "execution_count": 30,
   "metadata": {},
   "outputs": [
    {
     "data": {
      "image/png": "[encoded data removed]",
      "text/plain": [
       "<Figure size 640x480 with 1 Axes>"
      ]
     },
     "metadata": {},
     "output_type": "display_data"
    }
   ],
   "source": [
    "#creating visuals for the most used endstation\n",
    "style.use('ggplot')\n",
    "J = Top5_endstation1\n",
    "K = Top5_endstation2\n",
    "plt.barh(J, K, color = '#3E94A3')\n",
    "#plt.xticks(rotation=90, ha= 'right')\n",
    "plt.title('TOP 5 MOST USED END STATIONS IN THE COMPANY')\n",
    "plt.xlabel('Times used')\n",
    "plt.ylabel('ENDSTATIONS')\n",
    "for i, value in enumerate(K):\n",
    "    plt.text(value,i,str(value),va='center', fontsize=12, color ='black')\n",
    "plt.show() "
   ]
  },
  {
   "cell_type": "code",
   "execution_count": 31,
   "metadata": {},
   "outputs": [
    {
     "data": {
      "text/plain": [
       "[68378, 55860, 50531, 50140, 46395]"
      ]
     },
     "execution_count": 31,
     "metadata": {},
     "output_type": "execute_result"
    }
   ],
   "source": [
    "#3.What Station is used the most as an start Station\n",
    "C = DivvyTrips.groupby(['start_station_name'])\n",
    "C1 = C['start_station_name'].value_counts()\n",
    "#C1\n",
    "highest_startstation = pd.DataFrame(C1)\n",
    "highest_startstation \n",
    "#Sorting the start_station\n",
    "highest_startstation.sort_values(by='count', ascending=False, inplace=True)\n",
    "highest_startstation \n",
    "#\n",
    "Top5_start = highest_startstation.head()\n",
    "Top5_start\n",
    "Top5_startstation1 = Top5_start['count'].index.tolist()\n",
    "Top5_startstation1\n",
    "Top5_startstation2 = Top5_start['count'].tolist()\n",
    "Top5_startstation2"
   ]
  },
  {
   "cell_type": "code",
   "execution_count": 32,
   "metadata": {},
   "outputs": [
    {
     "data": {
      "image/png": "[encoded data removed]",
      "text/plain": [
       "<Figure size 640x480 with 1 Axes>"
      ]
     },
     "metadata": {},
     "output_type": "display_data"
    }
   ],
   "source": [
    "#creating visuals for the most used startstation\n",
    "style.use('ggplot')\n",
    "L = Top5_startstation1\n",
    "M = Top5_startstation2\n",
    "plt.barh(L, M, color = '#3E94A3')\n",
    "#plt.xticks(rotation=90, ha= 'right')\n",
    "plt.title('TOP 5 MOST USED START STATIONS IN THE COMPANY')\n",
    "plt.ylabel('START STATIONS')\n",
    "plt.xlabel('Times used')\n",
    "for i, value in enumerate(M):\n",
    "    plt.text(value,i,str(value),va='center', fontsize=12, color ='black')\n",
    "plt.show() "
   ]
  },
  {
   "cell_type": "code",
   "execution_count": 33,
   "metadata": {},
   "outputs": [],
   "source": [
    "#4. How many rideable_types are there\n",
    "#D = DivvyTrips.groupby(['rideable_type'])\n",
    "#D1 = D['rideable_type'].value_counts().sum()\n",
    "#D1"
   ]
  },
  {
   "cell_type": "code",
   "execution_count": 34,
   "metadata": {},
   "outputs": [
    {
     "data": {
      "text/plain": [
       "ended_at_month  member_casual\n",
       "April           member           217563\n",
       "                Customer          47749\n",
       "August          member           403309\n",
       "                Customer         186829\n",
       "December        member           138667\n",
       "                Customer          16432\n",
       "February        member           126711\n",
       "                Customer          12858\n",
       "January         member           136103\n",
       "                Customer           7781\n",
       "July            member           381669\n",
       "                Customer         175593\n",
       "June            member           345205\n",
       "                Customer         130294\n",
       "March           member           115600\n",
       "                Customer          27840\n",
       "May             member           285784\n",
       "                Customer          81480\n",
       "November        member           158446\n",
       "                Customer          18745\n",
       "October         member           300772\n",
       "                Customer          71094\n",
       "September       member           364039\n",
       "                Customer         129258\n",
       "Name: count, dtype: int64"
      ]
     },
     "execution_count": 34,
     "metadata": {},
     "output_type": "execute_result"
    }
   ],
   "source": [
    "D = DivvyTrips.groupby(['ended_at_month'])\n",
    "D1 = D['member_casual'].value_counts()\n",
    "D1"
   ]
  }
 ],
 "metadata": {
  "kernelspec": {
   "display_name": "Python 3",
   "language": "python",
   "name": "python3"
  },
  "language_info": {
   "codemirror_mode": {
    "name": "ipython",
    "version": 3
   },
   "file_extension": ".py",
   "mimetype": "text/x-python",
   "name": "python",
   "nbconvert_exporter": "python",
   "pygments_lexer": "ipython3",
   "version": "3.11.4"
  },
  "orig_nbformat": 4
 },
 "nbformat": 4,
 "nbformat_minor": 2
}
